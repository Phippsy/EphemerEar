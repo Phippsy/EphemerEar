{
  "cells": [
    {
      "cell_type": "code",
      "execution_count": 1,
      "metadata": {},
      "outputs": [],
      "source": [
        "import ephemerear.transcribe as ts\n",
        "from ephemerear.EphemerEar import EphemerEar"
      ]
    },
    {
      "cell_type": "code",
      "execution_count": 2,
      "metadata": {},
      "outputs": [],
      "source": [
        "yaml_path = 'config-template.yaml'\n",
        "ee = EphemerEar(yaml_path)\n",
        "# EphemerEar should automatically create your bot folders and subfolders based on your yaml file"
      ]
    },
    {
      "cell_type": "markdown",
      "metadata": {},
      "source": [
        "### Interacting with the bot using gpt_chat"
      ]
    },
    {
      "cell_type": "code",
      "execution_count": 3,
      "metadata": {},
      "outputs": [
        {
          "data": {
            "text/plain": [
              "'Hello! How can I assist you today?'"
            ]
          },
          "execution_count": 3,
          "metadata": {},
          "output_type": "execute_result"
        }
      ],
      "source": [
        "ee.gpt_chat(\"Hi, are you there?\")\n",
        "# Output to markdown file in config['stores']['responses']:\n",
        "\n",
        "# ## User enquiry\n",
        "# Hi, are you there?\n",
        "\n",
        "# ## EphemerEar response\n",
        "# Hello! Yes, I'm here. How can I help you today?"
      ]
    },
    {
      "cell_type": "markdown",
      "metadata": {},
      "source": [
        "### Triggering transcription using `handle_audio`\n",
        "\n",
        "Note that both examples are for demonstration purposes only - everything should happen automatically once Hazel is configured to run the `hazel-transcription.py` file. "
      ]
    },
    {
      "cell_type": "code",
      "execution_count": 4,
      "metadata": {},
      "outputs": [
        {
          "name": "stdout",
          "output_type": "stream",
          "text": [
            "Handling file: is this on.m4a\n"
          ]
        },
        {
          "name": "stderr",
          "output_type": "stream",
          "text": [
            "/Users/donalphipps/Documents/aiphoria/EphemerEar/venv/lib/python3.11/site-packages/whisper/transcribe.py:115: UserWarning: FP16 is not supported on CPU; using FP32 instead\n",
            "  warnings.warn(\"FP16 is not supported on CPU; using FP32 instead\")\n"
          ]
        },
        {
          "name": "stdout",
          "output_type": "stream",
          "text": [
            "Transcript written to bots/demobot/output/transcripts/2024/02/is this on.m4a.md\n",
            "Transcript contains prompt\n",
            "Processed and handled file: is this on.m4a\n"
          ]
        }
      ],
      "source": [
        "api_key = ee.config['auth_tokens']['openai']\n",
        "transcript_output_dir = ee.config['stores']['transcripts']\n",
        "cache_dir = ee.config['bot']['cache']\n",
        "ts.handle_audio(\"ephemerear/misc/is this on.m4a\", api_key, \"This is an English transcript\", transcript_output_dir, cache_dir, yaml_path, )\n",
        "# Output to markdown file in config['stores']['transcripts']:\n",
        "#  prompt hello Megabot I'm just testing to make sure you respond correctly can you please confirm you are there\n",
        "\n",
        "# Output to markdown file in config['stores']['responses']: (because the 'prompt' word in our transcript triggers a GPT response)\n",
        "# ## User enquiry\n",
        "# hello Megabot i'm just testing to make sure you respond correctly can you please confirm you are there\n",
        "\n",
        "# ## EphemerEar response\n",
        "# Yes, I'm here and ready to respond. How can I assist you further?"
      ]
    },
    {
      "cell_type": "markdown",
      "metadata": {},
      "source": [
        "### Viewing the conversation history so far"
      ]
    },
    {
      "cell_type": "code",
      "execution_count": 5,
      "metadata": {},
      "outputs": [
        {
          "name": "stdout",
          "output_type": "stream",
          "text": [
            "[{'role': 'user', 'content': 'Hi, are you there?'}, {'role': 'assistant', 'content': 'Hello! How can I assist you today?'}, {'role': 'user', 'content': \"hello megabot i'm just testing to make sure you respond correctly can you please confirm you are there\"}, {'role': 'assistant', 'content': \"Hello! Yes, I am here and ready to help. Feel free to ask me anything you'd like.\"}]\n"
          ]
        }
      ],
      "source": [
        "# View the contents of ephemerear.config['bot']['history_file']\n",
        "# This allows the bot to know your conversation history for any prompt submissions.\n",
        "history_file = ee.config['bot']['history_file']\n",
        "import json\n",
        "with open(history_file, 'r') as f:\n",
        "    history = json.load(f)\n",
        "print(history)"
      ]
    }
  ],
  "metadata": {
    "kernelspec": {
      "display_name": "Python 3",
      "language": "python",
      "name": "python3"
    },
    "language_info": {
      "codemirror_mode": {
        "name": "ipython",
        "version": 3
      },
      "file_extension": ".py",
      "mimetype": "text/x-python",
      "name": "python",
      "nbconvert_exporter": "python",
      "pygments_lexer": "ipython3",
      "version": "3.11.7"
    }
  },
  "nbformat": 4,
  "nbformat_minor": 2
}
